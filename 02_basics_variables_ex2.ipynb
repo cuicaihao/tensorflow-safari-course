{
 "cells": [
  {
   "cell_type": "markdown",
   "metadata": {},
   "source": [
    "![book](https://raw.githubusercontent.com/ageron/tensorflow-safari-course/master/images/intro_to_tf_course.png)"
   ]
  },
  {
   "cell_type": "markdown",
   "metadata": {},
   "source": [
    "**Try not to peek at the solutions when you go through the exercises. ;-)**"
   ]
  },
  {
   "cell_type": "markdown",
   "metadata": {},
   "source": [
    "First let's make sure this notebook works well in both Python 2 and Python 3:"
   ]
  },
  {
   "cell_type": "code",
   "execution_count": 1,
   "metadata": {},
   "outputs": [],
   "source": [
    "from __future__ import absolute_import, division, print_function, unicode_literals"
   ]
  },
  {
   "cell_type": "code",
   "execution_count": 2,
   "metadata": {},
   "outputs": [
    {
     "name": "stderr",
     "output_type": "stream",
     "text": [
      "/anaconda3/lib/python3.6/site-packages/h5py/__init__.py:36: FutureWarning: Conversion of the second argument of issubdtype from `float` to `np.floating` is deprecated. In future, it will be treated as `np.float64 == np.dtype(float).type`.\n",
      "  from ._conv import register_converters as _register_converters\n"
     ]
    },
    {
     "data": {
      "text/plain": [
       "'1.7.0'"
      ]
     },
     "execution_count": 2,
     "metadata": {},
     "output_type": "execute_result"
    }
   ],
   "source": [
    "import tensorflow as tf\n",
    "tf.__version__"
   ]
  },
  {
   "cell_type": "markdown",
   "metadata": {},
   "source": [
    "## Variables"
   ]
  },
  {
   "cell_type": "code",
   "execution_count": 16,
   "metadata": {},
   "outputs": [],
   "source": [
    ">>> graph = tf.Graph()\n",
    ">>> with graph.as_default():\n",
    "...     x = tf.Variable(100)\n",
    "...     c = tf.constant(5)\n",
    "...     increment_op = tf.assign(x, x + c)\n",
    "..."
   ]
  },
  {
   "cell_type": "code",
   "execution_count": 17,
   "metadata": {},
   "outputs": [
    {
     "name": "stdout",
     "output_type": "stream",
     "text": [
      "100\n",
      "150\n"
     ]
    }
   ],
   "source": [
    ">>> with tf.Session(graph=graph) as sess:\n",
    "...     x.initializer.run()\n",
    "...     print(x.eval())    # 100\n",
    "...     for iteration in range(10):\n",
    "...         increment_op.eval()\n",
    "...     print(x.eval())    # 150\n",
    "..."
   ]
  },
  {
   "cell_type": "markdown",
   "metadata": {},
   "source": [
    "## Variables Initializer"
   ]
  },
  {
   "cell_type": "code",
   "execution_count": 18,
   "metadata": {},
   "outputs": [],
   "source": [
    ">>> graph = tf.Graph()\n",
    ">>> with graph.as_default():\n",
    "...     x = tf.Variable(100)\n",
    "...     c = tf.constant(5)\n",
    "...     increment_op = tf.assign(x, x + c)\n",
    "...     init = tf.global_variables_initializer()\n",
    "..."
   ]
  },
  {
   "cell_type": "code",
   "execution_count": 19,
   "metadata": {},
   "outputs": [
    {
     "name": "stdout",
     "output_type": "stream",
     "text": [
      "100\n",
      "150\n"
     ]
    }
   ],
   "source": [
    ">>> with tf.Session(graph=graph) as sess:\n",
    "...     init.run()\n",
    "...     print(x.eval())    # 100\n",
    "...     for iteration in range(10):\n",
    "...         increment_op.eval()\n",
    "...     print(x.eval())    # 150\n",
    "..."
   ]
  },
  {
   "cell_type": "markdown",
   "metadata": {},
   "source": [
    "## Variable State"
   ]
  },
  {
   "cell_type": "code",
   "execution_count": 20,
   "metadata": {},
   "outputs": [],
   "source": [
    ">>> session1 = tf.Session(graph=graph)\n",
    ">>> session2 = tf.Session(graph=graph)\n",
    ">>> x.initializer.run(session=session1)\n",
    ">>> x.initializer.run(session=session2)"
   ]
  },
  {
   "cell_type": "code",
   "execution_count": 21,
   "metadata": {},
   "outputs": [
    {
     "data": {
      "text/plain": [
       "105"
      ]
     },
     "execution_count": 21,
     "metadata": {},
     "output_type": "execute_result"
    }
   ],
   "source": [
    ">>> increment_op.eval(session=session1)"
   ]
  },
  {
   "cell_type": "code",
   "execution_count": 22,
   "metadata": {},
   "outputs": [
    {
     "data": {
      "text/plain": [
       "105"
      ]
     },
     "execution_count": 22,
     "metadata": {},
     "output_type": "execute_result"
    }
   ],
   "source": [
    ">>> x.eval(session=session1)"
   ]
  },
  {
   "cell_type": "code",
   "execution_count": 23,
   "metadata": {},
   "outputs": [
    {
     "data": {
      "text/plain": [
       "100"
      ]
     },
     "execution_count": 23,
     "metadata": {},
     "output_type": "execute_result"
    }
   ],
   "source": [
    ">>> x.eval(session=session2)"
   ]
  },
  {
   "cell_type": "code",
   "execution_count": 24,
   "metadata": {},
   "outputs": [],
   "source": [
    ">>> session1.close()\n",
    ">>> session2.close()"
   ]
  },
  {
   "cell_type": "markdown",
   "metadata": {},
   "source": [
    "## Exercise 2"
   ]
  },
  {
   "cell_type": "markdown",
   "metadata": {},
   "source": [
    "![Exercise](https://c1.staticflickr.com/9/8101/8553474140_c50cf08708_b.jpg)"
   ]
  },
  {
   "cell_type": "markdown",
   "metadata": {},
   "source": [
    "In this exercise, we will use TensorFlow to compute $ 1 + \\frac{1}{2} + \\frac{1}{4} + \\frac{1}{8} + \\cdots $ by creating a simple graph then running it multiple times.\n",
    "\n",
    "Think about how you would solve this problem (and if you are feeling confident enough, go ahead and implement your ideas), then follow the instructions below."
   ]
  },
  {
   "cell_type": "code",
   "execution_count": 95,
   "metadata": {},
   "outputs": [],
   "source": [
    "myGraph = tf.Graph()\n",
    "with myGraph.as_default():\n",
    "    x = tf.Variable(0.0)\n",
    "    y = tf.Variable(1.0)   \n",
    "    add = tf.assign(x, x + y);\n",
    "    divide = tf.assign(y, y / 2)    \n",
    "    init = tf.global_variables_initializer()"
   ]
  },
  {
   "cell_type": "code",
   "execution_count": 56,
   "metadata": {},
   "outputs": [
    {
     "name": "stdout",
     "output_type": "stream",
     "text": [
      "0.0\n",
      "1.9999981\n"
     ]
    }
   ],
   "source": [
    "with tf.Session(graph=myGraph) as sess:\n",
    "    init.run()\n",
    "    print(x.eval())    # 0\n",
    "    for iteration in range(20):\n",
    "        add.eval()\n",
    "        divide.eval()\n",
    "    print(x.eval())    # 1+1/2+1/4 = 1.75"
   ]
  },
  {
   "cell_type": "code",
   "execution_count": 72,
   "metadata": {},
   "outputs": [
    {
     "name": "stdout",
     "output_type": "stream",
     "text": [
      "0.0\n",
      "1.0\n",
      "0.5\n",
      "1.5\n",
      "0.25\n",
      "1.75\n",
      "0.125\n",
      "1.875\n",
      "0.0625\n",
      "1.9375\n",
      "0.03125\n",
      "1.96875\n",
      "0.015625\n",
      "1.984375\n",
      "0.0078125\n",
      "1.9921875\n",
      "0.00390625\n",
      "1.9960938\n",
      "0.001953125\n",
      "1.9980469\n",
      "0.0009765625\n",
      "1.9990234\n",
      "0.00048828125\n",
      "1.9995117\n",
      "0.00024414062\n",
      "1.9997559\n",
      "0.00012207031\n",
      "1.9998779\n",
      "6.1035156e-05\n",
      "1.999939\n",
      "3.0517578e-05\n",
      "1.9999695\n",
      "1.5258789e-05\n",
      "1.9999847\n",
      "7.6293945e-06\n",
      "1.9999924\n",
      "3.8146973e-06\n",
      "1.9999962\n",
      "1.9073486e-06\n",
      "1.9999981\n",
      "9.536743e-07\n",
      "1.9999981\n"
     ]
    }
   ],
   "source": [
    "with tf.Session(graph=myGraph) as sess:\n",
    "    init.run()\n",
    "    print(x.eval())    # 0\n",
    "    for iteration in range(20):\n",
    "        print(sess.run(add))\n",
    "        print(sess.run(divide))\n",
    "    print(x.eval())    # 1+1/2+1/4 = 1.75"
   ]
  },
  {
   "cell_type": "markdown",
   "metadata": {
    "collapsed": true
   },
   "source": [
    "2.1) Create a graph with two variables $ x $ and $ y $, initialized to 0.0 and 1.0 respectively. Create an operation that will perform the following assignment: $ x \\gets x + y $. Create a second operation that will perform the following assignment: $ y \\gets \\dfrac{y}{2} $."
   ]
  },
  {
   "cell_type": "code",
   "execution_count": null,
   "metadata": {},
   "outputs": [],
   "source": []
  },
  {
   "cell_type": "code",
   "execution_count": null,
   "metadata": {},
   "outputs": [],
   "source": []
  },
  {
   "cell_type": "code",
   "execution_count": null,
   "metadata": {},
   "outputs": [],
   "source": []
  },
  {
   "cell_type": "markdown",
   "metadata": {
    "collapsed": true
   },
   "source": [
    "2.2) Now create a `Session()`, initialize the variables, then create a loop that will run 50 times, and at each iteration will run the first assignment operation, then the second (separately). Finally, print out the value of $ x $. The result should be very close (or equal to) 2.0."
   ]
  },
  {
   "cell_type": "code",
   "execution_count": 71,
   "metadata": {},
   "outputs": [
    {
     "name": "stdout",
     "output_type": "stream",
     "text": [
      "0.0\n",
      "2.0\n"
     ]
    }
   ],
   "source": [
    "with tf.Session(graph=myGraph) as sess:\n",
    "    init.run()\n",
    "    print(x.eval())    # 0\n",
    "    for iteration in range(50):\n",
    "        add.eval()\n",
    "        divide.eval()\n",
    "    print(x.eval())    # 1+1/2+1/4 = 1.75"
   ]
  },
  {
   "cell_type": "code",
   "execution_count": null,
   "metadata": {},
   "outputs": [],
   "source": []
  },
  {
   "cell_type": "code",
   "execution_count": null,
   "metadata": {},
   "outputs": [],
   "source": []
  },
  {
   "cell_type": "markdown",
   "metadata": {},
   "source": [
    "2.3) Try to run the assignment operations simultaneously. What happens to the result? Run your code multiply times: do the results vary? Can you explain what is happening?"
   ]
  },
  {
   "cell_type": "code",
   "execution_count": 98,
   "metadata": {},
   "outputs": [
    {
     "name": "stdout",
     "output_type": "stream",
     "text": [
      "1.469635\n"
     ]
    }
   ],
   "source": [
    "with tf.Session(graph=myGraph) as sess:\n",
    "    init.run()\n",
    "    for iteration in range(50):\n",
    "        sess.run([add, divide])\n",
    "    result = x.eval()\n",
    "print(result)"
   ]
  },
  {
   "cell_type": "code",
   "execution_count": 99,
   "metadata": {},
   "outputs": [
    {
     "name": "stdout",
     "output_type": "stream",
     "text": [
      "1.7793958\n"
     ]
    }
   ],
   "source": [
    "with tf.Session(graph=myGraph) as sess:\n",
    "    init.run()\n",
    "    for iteration in range(50):\n",
    "        sess.run([add, divide])\n",
    "    result = x.eval()\n",
    "print(result)"
   ]
  },
  {
   "cell_type": "code",
   "execution_count": 100,
   "metadata": {},
   "outputs": [
    {
     "name": "stdout",
     "output_type": "stream",
     "text": [
      "1.7674714\n"
     ]
    }
   ],
   "source": [
    "with tf.Session(graph=myGraph) as sess:\n",
    "    init.run()\n",
    "    for iteration in range(50):\n",
    "        sess.run([add, divide])\n",
    "    result = x.eval()\n",
    "print(result)"
   ]
  },
  {
   "cell_type": "markdown",
   "metadata": {},
   "source": [
    "2.5) Bonus question (if you have time): update you graph to define the second assignment ($y \\gets \\frac{y}{2}$) inside a `tf.control_dependencies()` block, to  guarantee that it runs after the first assignment ($ x \\gets x + y$). Does this finally solve the problem?"
   ]
  },
  {
   "cell_type": "code",
   "execution_count": 101,
   "metadata": {},
   "outputs": [],
   "source": [
    "myGraph = tf.Graph()\n",
    "with myGraph.as_default():\n",
    "    x = tf.Variable(0.0)\n",
    "    y = tf.Variable(1.0)   \n",
    "    add = tf.assign(x, x + y);\n",
    "    with tf.control_dependencies([add]):\n",
    "        divide = tf.assign(y, y / 2)    \n",
    "    init = tf.global_variables_initializer()"
   ]
  },
  {
   "cell_type": "code",
   "execution_count": 102,
   "metadata": {},
   "outputs": [
    {
     "name": "stdout",
     "output_type": "stream",
     "text": [
      "2.0\n"
     ]
    }
   ],
   "source": [
    "with tf.Session(graph=myGraph) as sess:\n",
    "    init.run()\n",
    "    for iteration in range(50):\n",
    "        sess.run([add, divide])\n",
    "    result = x.eval()\n",
    "print(result)"
   ]
  },
  {
   "cell_type": "code",
   "execution_count": 103,
   "metadata": {},
   "outputs": [
    {
     "name": "stdout",
     "output_type": "stream",
     "text": [
      "2.0\n"
     ]
    }
   ],
   "source": [
    "with tf.Session(graph=myGraph) as sess:\n",
    "    init.run()\n",
    "    for iteration in range(50):\n",
    "        sess.run([add, divide])\n",
    "    result = x.eval()\n",
    "print(result)"
   ]
  },
  {
   "cell_type": "markdown",
   "metadata": {},
   "source": [
    "Try not to peek at the solution below before you have done the exercise! :)"
   ]
  },
  {
   "cell_type": "markdown",
   "metadata": {},
   "source": [
    "![thinking](https://upload.wikimedia.org/wikipedia/commons/0/06/Filos_segundo_logo_%28flipped%29.jpg)"
   ]
  },
  {
   "cell_type": "markdown",
   "metadata": {},
   "source": [
    "## Exercise 2 - Solution"
   ]
  },
  {
   "cell_type": "markdown",
   "metadata": {},
   "source": [
    "2.1)"
   ]
  },
  {
   "cell_type": "code",
   "execution_count": 74,
   "metadata": {},
   "outputs": [],
   "source": [
    "graph = tf.Graph()\n",
    "with graph.as_default():\n",
    "    x = tf.Variable(0.0)\n",
    "    y = tf.Variable(1.0)\n",
    "    add = tf.assign(x, x + y)\n",
    "    divide = tf.assign(y, y / 2)\n",
    "    init = tf.global_variables_initializer()"
   ]
  },
  {
   "cell_type": "markdown",
   "metadata": {},
   "source": [
    "2.2)"
   ]
  },
  {
   "cell_type": "code",
   "execution_count": 75,
   "metadata": {},
   "outputs": [],
   "source": [
    "with tf.Session(graph=graph):\n",
    "    init.run()\n",
    "    for iteration in range(20):\n",
    "        add.eval()\n",
    "        divide.eval()\n",
    "    result = x.eval()"
   ]
  },
  {
   "cell_type": "code",
   "execution_count": 76,
   "metadata": {},
   "outputs": [
    {
     "name": "stdout",
     "output_type": "stream",
     "text": [
      "1.9999981\n"
     ]
    }
   ],
   "source": [
    "print(result)"
   ]
  },
  {
   "cell_type": "markdown",
   "metadata": {},
   "source": [
    "2.3)"
   ]
  },
  {
   "cell_type": "code",
   "execution_count": 88,
   "metadata": {},
   "outputs": [],
   "source": [
    "with tf.Session(graph=graph) as sess:\n",
    "    init.run()\n",
    "    for iteration in range(20):\n",
    "        sess.run([add, divide])\n",
    "    result = x.eval()"
   ]
  },
  {
   "cell_type": "code",
   "execution_count": 89,
   "metadata": {},
   "outputs": [
    {
     "data": {
      "text/plain": [
       "1.9999981"
      ]
     },
     "execution_count": 89,
     "metadata": {},
     "output_type": "execute_result"
    }
   ],
   "source": [
    "result"
   ]
  },
  {
   "cell_type": "markdown",
   "metadata": {},
   "source": [
    "2.4)"
   ]
  },
  {
   "cell_type": "code",
   "execution_count": 90,
   "metadata": {},
   "outputs": [],
   "source": [
    "graph = tf.Graph()\n",
    "with graph.as_default():\n",
    "    x = tf.Variable(0.0)\n",
    "    y = tf.Variable(1.0)\n",
    "    add = tf.assign(x, x + y)\n",
    "    with tf.control_dependencies([add]):\n",
    "        divide = tf.assign(y, y / 2)\n",
    "    init = tf.global_variables_initializer()"
   ]
  },
  {
   "cell_type": "code",
   "execution_count": 93,
   "metadata": {},
   "outputs": [],
   "source": [
    "with tf.Session(graph=graph) as sess:\n",
    "    init.run()\n",
    "    for iteration in range(30):\n",
    "        sess.run([add, divide])\n",
    "    result = x.eval()"
   ]
  },
  {
   "cell_type": "code",
   "execution_count": 94,
   "metadata": {},
   "outputs": [
    {
     "data": {
      "text/plain": [
       "2.0"
      ]
     },
     "execution_count": 94,
     "metadata": {},
     "output_type": "execute_result"
    }
   ],
   "source": [
    "result"
   ]
  },
  {
   "cell_type": "code",
   "execution_count": null,
   "metadata": {},
   "outputs": [],
   "source": []
  }
 ],
 "metadata": {
  "kernelspec": {
   "display_name": "Python 3",
   "language": "python",
   "name": "python3"
  },
  "language_info": {
   "codemirror_mode": {
    "name": "ipython",
    "version": 3
   },
   "file_extension": ".py",
   "mimetype": "text/x-python",
   "name": "python",
   "nbconvert_exporter": "python",
   "pygments_lexer": "ipython3",
   "version": "3.6.5"
  }
 },
 "nbformat": 4,
 "nbformat_minor": 2
}
